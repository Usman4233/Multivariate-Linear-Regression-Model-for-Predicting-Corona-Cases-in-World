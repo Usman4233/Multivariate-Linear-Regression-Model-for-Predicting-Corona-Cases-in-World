{
 "cells": [
  {
   "cell_type": "markdown",
   "metadata": {},
   "source": [
    "# PROJECT 1\n",
    "\n",
    "Submitted To: `Dr. Hasan Sajid`                                              \n",
    "Submitted By: `Usman Zaheer`, Roll No: `13194`, Registration Number: `00000327700` \n",
    "RIME: `2020`  Subject: `Machine Learning`\n",
    "\n",
    "\n"
   ]
  },
  {
   "cell_type": "markdown",
   "metadata": {},
   "source": [
    "### Problem Statement\n",
    "#### Write complete code to train a linear/non-linear model for predicting corona cases in USA and world with regularization.\n",
    "\n",
    "-  In this model, linear regression model with regularization is implemented for predicting corona cases in different countries of whole world.\n"
   ]
  },
  {
   "cell_type": "markdown",
   "metadata": {},
   "source": [
    "#### Model: Multivariate Linear Regression Model with Regularization for Predicting Corona Cases in World.*"
   ]
  },
  {
   "cell_type": "markdown",
   "metadata": {},
   "source": [
    "### Step 1:  Importing necesaary libraries for the model."
   ]
  },
  {
   "cell_type": "code",
   "execution_count": 1,
   "metadata": {},
   "outputs": [],
   "source": [
    "import pandas as pd\n",
    "import numpy as np\n",
    "import matplotlib.pyplot as plt"
   ]
  },
  {
   "cell_type": "markdown",
   "metadata": {},
   "source": [
    "#### Useful links from where data was taken and cleaned for this specific model.\n",
    "\n",
    "For corona cases data:\n",
    "- 1) https://github.com/owid/covid-19-data/blob/master/public/data/owid-covid-data.csv\n",
    "\n",
    "For weather temperarure data:\n",
    "- 2) https://www.timeanddate.com/weather/\n",
    "\n",
    "Population density: \n",
    "- 3) https://github.com/owid/covid-19-data/blob/master/public/data/owid-covid-data.csv\n",
    "\n",
    "Human Development Index:\n",
    "- 4)https://github.com/owid/covid-19-data/blob/master/public/data/owid-covid-data.csv\n"
   ]
  },
  {
   "cell_type": "markdown",
   "metadata": {},
   "source": [
    "### Step 2: Importing csv file of World Data using pandas"
   ]
  },
  {
   "cell_type": "markdown",
   "metadata": {},
   "source": [
    "`Worldwide Final` is the name of csv file which will be converted to dataframe (df) using pandas. "
   ]
  },
  {
   "cell_type": "code",
   "execution_count": 2,
   "metadata": {},
   "outputs": [],
   "source": [
    "df=pd.read_csv('Worldwide final.csv')"
   ]
  },
  {
   "cell_type": "markdown",
   "metadata": {},
   "source": [
    "Imported Data named `df` "
   ]
  },
  {
   "cell_type": "code",
   "execution_count": 3,
   "metadata": {},
   "outputs": [
    {
     "data": {
      "text/html": [
       "<div>\n",
       "<style scoped>\n",
       "    .dataframe tbody tr th:only-of-type {\n",
       "        vertical-align: middle;\n",
       "    }\n",
       "\n",
       "    .dataframe tbody tr th {\n",
       "        vertical-align: top;\n",
       "    }\n",
       "\n",
       "    .dataframe thead th {\n",
       "        text-align: right;\n",
       "    }\n",
       "</style>\n",
       "<table border=\"1\" class=\"dataframe\">\n",
       "  <thead>\n",
       "    <tr style=\"text-align: right;\">\n",
       "      <th></th>\n",
       "      <th>CONTINENT</th>\n",
       "      <th>LOCATION</th>\n",
       "      <th>DATE</th>\n",
       "      <th>COUNTRY_SERIES</th>\n",
       "      <th>DATE_CODE</th>\n",
       "      <th>COUNTRY_CODE</th>\n",
       "      <th>POPULATION DENSITY</th>\n",
       "      <th>HUMAN_DEVELOPMENT_INDEX</th>\n",
       "      <th>TEMPERATURES</th>\n",
       "      <th>CASES</th>\n",
       "    </tr>\n",
       "  </thead>\n",
       "  <tbody>\n",
       "    <tr>\n",
       "      <th>0</th>\n",
       "      <td>Asia</td>\n",
       "      <td>Afghanistan</td>\n",
       "      <td>1/23/2020</td>\n",
       "      <td>0</td>\n",
       "      <td>0</td>\n",
       "      <td>0</td>\n",
       "      <td>54.42</td>\n",
       "      <td>0.498</td>\n",
       "      <td>7.0</td>\n",
       "      <td>0</td>\n",
       "    </tr>\n",
       "    <tr>\n",
       "      <th>1</th>\n",
       "      <td>Asia</td>\n",
       "      <td>Afghanistan</td>\n",
       "      <td>1/24/2020</td>\n",
       "      <td>1</td>\n",
       "      <td>1</td>\n",
       "      <td>0</td>\n",
       "      <td>54.42</td>\n",
       "      <td>0.498</td>\n",
       "      <td>7.0</td>\n",
       "      <td>0</td>\n",
       "    </tr>\n",
       "    <tr>\n",
       "      <th>2</th>\n",
       "      <td>Asia</td>\n",
       "      <td>Afghanistan</td>\n",
       "      <td>1/25/2020</td>\n",
       "      <td>2</td>\n",
       "      <td>2</td>\n",
       "      <td>0</td>\n",
       "      <td>54.42</td>\n",
       "      <td>0.498</td>\n",
       "      <td>13.0</td>\n",
       "      <td>0</td>\n",
       "    </tr>\n",
       "    <tr>\n",
       "      <th>3</th>\n",
       "      <td>Asia</td>\n",
       "      <td>Afghanistan</td>\n",
       "      <td>1/26/2020</td>\n",
       "      <td>3</td>\n",
       "      <td>3</td>\n",
       "      <td>0</td>\n",
       "      <td>54.42</td>\n",
       "      <td>0.498</td>\n",
       "      <td>2.0</td>\n",
       "      <td>0</td>\n",
       "    </tr>\n",
       "    <tr>\n",
       "      <th>4</th>\n",
       "      <td>Asia</td>\n",
       "      <td>Afghanistan</td>\n",
       "      <td>1/27/2020</td>\n",
       "      <td>4</td>\n",
       "      <td>4</td>\n",
       "      <td>0</td>\n",
       "      <td>54.42</td>\n",
       "      <td>0.498</td>\n",
       "      <td>6.0</td>\n",
       "      <td>0</td>\n",
       "    </tr>\n",
       "  </tbody>\n",
       "</table>\n",
       "</div>"
      ],
      "text/plain": [
       "  CONTINENT     LOCATION       DATE  COUNTRY_SERIES  DATE_CODE  COUNTRY_CODE  \\\n",
       "0      Asia  Afghanistan  1/23/2020               0          0             0   \n",
       "1      Asia  Afghanistan  1/24/2020               1          1             0   \n",
       "2      Asia  Afghanistan  1/25/2020               2          2             0   \n",
       "3      Asia  Afghanistan  1/26/2020               3          3             0   \n",
       "4      Asia  Afghanistan  1/27/2020               4          4             0   \n",
       "\n",
       "   POPULATION DENSITY  HUMAN_DEVELOPMENT_INDEX  TEMPERATURES  CASES  \n",
       "0               54.42                    0.498           7.0      0  \n",
       "1               54.42                    0.498           7.0      0  \n",
       "2               54.42                    0.498          13.0      0  \n",
       "3               54.42                    0.498           2.0      0  \n",
       "4               54.42                    0.498           6.0      0  "
      ]
     },
     "execution_count": 3,
     "metadata": {},
     "output_type": "execute_result"
    }
   ],
   "source": [
    "df.head()"
   ]
  },
  {
   "cell_type": "code",
   "execution_count": 4,
   "metadata": {},
   "outputs": [
    {
     "name": "stdout",
     "output_type": "stream",
     "text": [
      "<class 'pandas.core.frame.DataFrame'>\n",
      "RangeIndex: 54720 entries, 0 to 54719\n",
      "Data columns (total 10 columns):\n",
      " #   Column                   Non-Null Count  Dtype  \n",
      "---  ------                   --------------  -----  \n",
      " 0   CONTINENT                54720 non-null  object \n",
      " 1   LOCATION                 54720 non-null  object \n",
      " 2   DATE                     54720 non-null  object \n",
      " 3   COUNTRY_SERIES           54720 non-null  int64  \n",
      " 4   DATE_CODE                54720 non-null  int64  \n",
      " 5   COUNTRY_CODE             54720 non-null  int64  \n",
      " 6   POPULATION DENSITY       53440 non-null  float64\n",
      " 7   HUMAN_DEVELOPMENT_INDEX  52800 non-null  float64\n",
      " 8   TEMPERATURES             54720 non-null  float64\n",
      " 9   CASES                    54720 non-null  int64  \n",
      "dtypes: float64(3), int64(4), object(3)\n",
      "memory usage: 4.2+ MB\n"
     ]
    }
   ],
   "source": [
    "df.info()"
   ]
  },
  {
   "cell_type": "markdown",
   "metadata": {},
   "source": [
    "### Step 3: Creating a column named Xo which is bias term"
   ]
  },
  {
   "cell_type": "code",
   "execution_count": 5,
   "metadata": {},
   "outputs": [
    {
     "data": {
      "text/plain": [
       "0    1\n",
       "1    1\n",
       "2    1\n",
       "3    1\n",
       "4    1\n",
       "Name: Xo, dtype: int64"
      ]
     },
     "execution_count": 5,
     "metadata": {},
     "output_type": "execute_result"
    }
   ],
   "source": [
    "dfx=pd.Series(1,index=df.index,name='Xo')\n",
    "dfx.head()"
   ]
  },
  {
   "cell_type": "code",
   "execution_count": 6,
   "metadata": {},
   "outputs": [
    {
     "data": {
      "text/html": [
       "<div>\n",
       "<style scoped>\n",
       "    .dataframe tbody tr th:only-of-type {\n",
       "        vertical-align: middle;\n",
       "    }\n",
       "\n",
       "    .dataframe tbody tr th {\n",
       "        vertical-align: top;\n",
       "    }\n",
       "\n",
       "    .dataframe thead th {\n",
       "        text-align: right;\n",
       "    }\n",
       "</style>\n",
       "<table border=\"1\" class=\"dataframe\">\n",
       "  <thead>\n",
       "    <tr style=\"text-align: right;\">\n",
       "      <th></th>\n",
       "      <th>Xo</th>\n",
       "      <th>CONTINENT</th>\n",
       "      <th>LOCATION</th>\n",
       "      <th>DATE</th>\n",
       "      <th>COUNTRY_SERIES</th>\n",
       "      <th>DATE_CODE</th>\n",
       "      <th>COUNTRY_CODE</th>\n",
       "      <th>POPULATION DENSITY</th>\n",
       "      <th>HUMAN_DEVELOPMENT_INDEX</th>\n",
       "      <th>TEMPERATURES</th>\n",
       "      <th>CASES</th>\n",
       "    </tr>\n",
       "  </thead>\n",
       "  <tbody>\n",
       "    <tr>\n",
       "      <th>0</th>\n",
       "      <td>1</td>\n",
       "      <td>Asia</td>\n",
       "      <td>Afghanistan</td>\n",
       "      <td>1/23/2020</td>\n",
       "      <td>0</td>\n",
       "      <td>0</td>\n",
       "      <td>0</td>\n",
       "      <td>54.42</td>\n",
       "      <td>0.498</td>\n",
       "      <td>7.0</td>\n",
       "      <td>0</td>\n",
       "    </tr>\n",
       "    <tr>\n",
       "      <th>1</th>\n",
       "      <td>1</td>\n",
       "      <td>Asia</td>\n",
       "      <td>Afghanistan</td>\n",
       "      <td>1/24/2020</td>\n",
       "      <td>1</td>\n",
       "      <td>1</td>\n",
       "      <td>0</td>\n",
       "      <td>54.42</td>\n",
       "      <td>0.498</td>\n",
       "      <td>7.0</td>\n",
       "      <td>0</td>\n",
       "    </tr>\n",
       "    <tr>\n",
       "      <th>2</th>\n",
       "      <td>1</td>\n",
       "      <td>Asia</td>\n",
       "      <td>Afghanistan</td>\n",
       "      <td>1/25/2020</td>\n",
       "      <td>2</td>\n",
       "      <td>2</td>\n",
       "      <td>0</td>\n",
       "      <td>54.42</td>\n",
       "      <td>0.498</td>\n",
       "      <td>13.0</td>\n",
       "      <td>0</td>\n",
       "    </tr>\n",
       "    <tr>\n",
       "      <th>3</th>\n",
       "      <td>1</td>\n",
       "      <td>Asia</td>\n",
       "      <td>Afghanistan</td>\n",
       "      <td>1/26/2020</td>\n",
       "      <td>3</td>\n",
       "      <td>3</td>\n",
       "      <td>0</td>\n",
       "      <td>54.42</td>\n",
       "      <td>0.498</td>\n",
       "      <td>2.0</td>\n",
       "      <td>0</td>\n",
       "    </tr>\n",
       "    <tr>\n",
       "      <th>4</th>\n",
       "      <td>1</td>\n",
       "      <td>Asia</td>\n",
       "      <td>Afghanistan</td>\n",
       "      <td>1/27/2020</td>\n",
       "      <td>4</td>\n",
       "      <td>4</td>\n",
       "      <td>0</td>\n",
       "      <td>54.42</td>\n",
       "      <td>0.498</td>\n",
       "      <td>6.0</td>\n",
       "      <td>0</td>\n",
       "    </tr>\n",
       "  </tbody>\n",
       "</table>\n",
       "</div>"
      ],
      "text/plain": [
       "   Xo CONTINENT     LOCATION       DATE  COUNTRY_SERIES  DATE_CODE  \\\n",
       "0   1      Asia  Afghanistan  1/23/2020               0          0   \n",
       "1   1      Asia  Afghanistan  1/24/2020               1          1   \n",
       "2   1      Asia  Afghanistan  1/25/2020               2          2   \n",
       "3   1      Asia  Afghanistan  1/26/2020               3          3   \n",
       "4   1      Asia  Afghanistan  1/27/2020               4          4   \n",
       "\n",
       "   COUNTRY_CODE  POPULATION DENSITY  HUMAN_DEVELOPMENT_INDEX  TEMPERATURES  \\\n",
       "0             0               54.42                    0.498           7.0   \n",
       "1             0               54.42                    0.498           7.0   \n",
       "2             0               54.42                    0.498          13.0   \n",
       "3             0               54.42                    0.498           2.0   \n",
       "4             0               54.42                    0.498           6.0   \n",
       "\n",
       "   CASES  \n",
       "0      0  \n",
       "1      0  \n",
       "2      0  \n",
       "3      0  \n",
       "4      0  "
      ]
     },
     "execution_count": 6,
     "metadata": {},
     "output_type": "execute_result"
    }
   ],
   "source": [
    "f_df=pd.concat([dfx,df],axis=1)\n",
    "f_df.head()"
   ]
  },
  {
   "cell_type": "code",
   "execution_count": 36,
   "metadata": {},
   "outputs": [
    {
     "data": {
      "text/plain": [
       "(319, 0, 170, 0, 19347.5, 1.98, 0.953, 0.354, 52.0, -16.0)"
      ]
     },
     "execution_count": 36,
     "metadata": {},
     "output_type": "execute_result"
    }
   ],
   "source": [
    "f_df[\"DATE_CODE\"].max(), f_df[\"DATE_CODE\"].min(), f_df[\"COUNTRY_CODE\"].max(), f_df[\"COUNTRY_CODE\"].min(), f_df[\"POPULATION DENSITY\"].max(), f_df[\"POPULATION DENSITY\"].min(), f_df[\"HUMAN_DEVELOPMENT_INDEX\"].max(), f_df[\"HUMAN_DEVELOPMENT_INDEX\"].min(), f_df[\"TEMPERATURES\"].max(), f_df[\"TEMPERATURES\"].min()"
   ]
  },
  {
   "cell_type": "markdown",
   "metadata": {},
   "source": [
    "### Step 4: Cleaning data"
   ]
  },
  {
   "cell_type": "markdown",
   "metadata": {},
   "source": [
    "##### Checking Nan values in data"
   ]
  },
  {
   "cell_type": "code",
   "execution_count": 7,
   "metadata": {},
   "outputs": [
    {
     "data": {
      "text/plain": [
       "Xo                            0\n",
       "CONTINENT                     0\n",
       "LOCATION                      0\n",
       "DATE                          0\n",
       "COUNTRY_SERIES                0\n",
       "DATE_CODE                     0\n",
       "COUNTRY_CODE                  0\n",
       "POPULATION DENSITY         1280\n",
       "HUMAN_DEVELOPMENT_INDEX    1920\n",
       "TEMPERATURES                  0\n",
       "CASES                         0\n",
       "dtype: int64"
      ]
     },
     "execution_count": 7,
     "metadata": {},
     "output_type": "execute_result"
    }
   ],
   "source": [
    "f_df.isna().sum()"
   ]
  },
  {
   "cell_type": "code",
   "execution_count": 8,
   "metadata": {},
   "outputs": [],
   "source": [
    "f_df[\"HUMAN_DEVELOPMENT_INDEX\"]=f_df[\"HUMAN_DEVELOPMENT_INDEX\"].fillna(f_df[\"HUMAN_DEVELOPMENT_INDEX\"].mean())"
   ]
  },
  {
   "cell_type": "code",
   "execution_count": 9,
   "metadata": {},
   "outputs": [],
   "source": [
    "f_df[\"POPULATION DENSITY\"]=f_df[\"POPULATION DENSITY\"].fillna(f_df[\"POPULATION DENSITY\"].mean())"
   ]
  },
  {
   "cell_type": "code",
   "execution_count": 10,
   "metadata": {},
   "outputs": [
    {
     "data": {
      "text/html": [
       "<div>\n",
       "<style scoped>\n",
       "    .dataframe tbody tr th:only-of-type {\n",
       "        vertical-align: middle;\n",
       "    }\n",
       "\n",
       "    .dataframe tbody tr th {\n",
       "        vertical-align: top;\n",
       "    }\n",
       "\n",
       "    .dataframe thead th {\n",
       "        text-align: right;\n",
       "    }\n",
       "</style>\n",
       "<table border=\"1\" class=\"dataframe\">\n",
       "  <thead>\n",
       "    <tr style=\"text-align: right;\">\n",
       "      <th></th>\n",
       "      <th>Xo</th>\n",
       "      <th>CONTINENT</th>\n",
       "      <th>LOCATION</th>\n",
       "      <th>DATE</th>\n",
       "      <th>COUNTRY_SERIES</th>\n",
       "      <th>DATE_CODE</th>\n",
       "      <th>COUNTRY_CODE</th>\n",
       "      <th>POPULATION DENSITY</th>\n",
       "      <th>HUMAN_DEVELOPMENT_INDEX</th>\n",
       "      <th>TEMPERATURES</th>\n",
       "      <th>CASES</th>\n",
       "    </tr>\n",
       "  </thead>\n",
       "  <tbody>\n",
       "    <tr>\n",
       "      <th>0</th>\n",
       "      <td>1</td>\n",
       "      <td>Asia</td>\n",
       "      <td>Afghanistan</td>\n",
       "      <td>1/23/2020</td>\n",
       "      <td>0</td>\n",
       "      <td>0</td>\n",
       "      <td>0</td>\n",
       "      <td>54.42</td>\n",
       "      <td>0.498</td>\n",
       "      <td>7.0</td>\n",
       "      <td>0</td>\n",
       "    </tr>\n",
       "    <tr>\n",
       "      <th>1</th>\n",
       "      <td>1</td>\n",
       "      <td>Asia</td>\n",
       "      <td>Afghanistan</td>\n",
       "      <td>1/24/2020</td>\n",
       "      <td>1</td>\n",
       "      <td>1</td>\n",
       "      <td>0</td>\n",
       "      <td>54.42</td>\n",
       "      <td>0.498</td>\n",
       "      <td>7.0</td>\n",
       "      <td>0</td>\n",
       "    </tr>\n",
       "    <tr>\n",
       "      <th>2</th>\n",
       "      <td>1</td>\n",
       "      <td>Asia</td>\n",
       "      <td>Afghanistan</td>\n",
       "      <td>1/25/2020</td>\n",
       "      <td>2</td>\n",
       "      <td>2</td>\n",
       "      <td>0</td>\n",
       "      <td>54.42</td>\n",
       "      <td>0.498</td>\n",
       "      <td>13.0</td>\n",
       "      <td>0</td>\n",
       "    </tr>\n",
       "    <tr>\n",
       "      <th>3</th>\n",
       "      <td>1</td>\n",
       "      <td>Asia</td>\n",
       "      <td>Afghanistan</td>\n",
       "      <td>1/26/2020</td>\n",
       "      <td>3</td>\n",
       "      <td>3</td>\n",
       "      <td>0</td>\n",
       "      <td>54.42</td>\n",
       "      <td>0.498</td>\n",
       "      <td>2.0</td>\n",
       "      <td>0</td>\n",
       "    </tr>\n",
       "    <tr>\n",
       "      <th>4</th>\n",
       "      <td>1</td>\n",
       "      <td>Asia</td>\n",
       "      <td>Afghanistan</td>\n",
       "      <td>1/27/2020</td>\n",
       "      <td>4</td>\n",
       "      <td>4</td>\n",
       "      <td>0</td>\n",
       "      <td>54.42</td>\n",
       "      <td>0.498</td>\n",
       "      <td>6.0</td>\n",
       "      <td>0</td>\n",
       "    </tr>\n",
       "  </tbody>\n",
       "</table>\n",
       "</div>"
      ],
      "text/plain": [
       "   Xo CONTINENT     LOCATION       DATE  COUNTRY_SERIES  DATE_CODE  \\\n",
       "0   1      Asia  Afghanistan  1/23/2020               0          0   \n",
       "1   1      Asia  Afghanistan  1/24/2020               1          1   \n",
       "2   1      Asia  Afghanistan  1/25/2020               2          2   \n",
       "3   1      Asia  Afghanistan  1/26/2020               3          3   \n",
       "4   1      Asia  Afghanistan  1/27/2020               4          4   \n",
       "\n",
       "   COUNTRY_CODE  POPULATION DENSITY  HUMAN_DEVELOPMENT_INDEX  TEMPERATURES  \\\n",
       "0             0               54.42                    0.498           7.0   \n",
       "1             0               54.42                    0.498           7.0   \n",
       "2             0               54.42                    0.498          13.0   \n",
       "3             0               54.42                    0.498           2.0   \n",
       "4             0               54.42                    0.498           6.0   \n",
       "\n",
       "   CASES  \n",
       "0      0  \n",
       "1      0  \n",
       "2      0  \n",
       "3      0  \n",
       "4      0  "
      ]
     },
     "execution_count": 10,
     "metadata": {},
     "output_type": "execute_result"
    }
   ],
   "source": [
    "f_df.head()"
   ]
  },
  {
   "cell_type": "code",
   "execution_count": 11,
   "metadata": {},
   "outputs": [
    {
     "data": {
      "text/plain": [
       "Xo                         0\n",
       "CONTINENT                  0\n",
       "LOCATION                   0\n",
       "DATE                       0\n",
       "COUNTRY_SERIES             0\n",
       "DATE_CODE                  0\n",
       "COUNTRY_CODE               0\n",
       "POPULATION DENSITY         0\n",
       "HUMAN_DEVELOPMENT_INDEX    0\n",
       "TEMPERATURES               0\n",
       "CASES                      0\n",
       "dtype: int64"
      ]
     },
     "execution_count": 11,
     "metadata": {},
     "output_type": "execute_result"
    }
   ],
   "source": [
    "f_df.isna().sum()"
   ]
  },
  {
   "cell_type": "markdown",
   "metadata": {},
   "source": [
    "### Step 5: Creating features `x` and prediction label `y` "
   ]
  },
  {
   "cell_type": "code",
   "execution_count": 12,
   "metadata": {},
   "outputs": [],
   "source": [
    "x=f_df.drop([\"CONTINENT\",'LOCATION', 'DATE', 'COUNTRY_SERIES','CASES'], axis=1)\n"
   ]
  },
  {
   "cell_type": "markdown",
   "metadata": {},
   "source": [
    "`x` is our features."
   ]
  },
  {
   "cell_type": "markdown",
   "metadata": {},
   "source": [
    "Features information:\n",
    "\n",
    "  Here, We have 6 features:\n",
    "\n",
    "    *1) Xo (Bias Term) = 1\n",
    "    *2) DATE_CODE = In this model \"date\" is numerically coded. For example: \n",
    "        Model date starts from 23 January 2020 and ends at 7th December 2020.\n",
    "        *Here: 23/01/2020 is 0 and 7th December is 319.\n",
    "    *3) COUNTRY_CODE: Country codes are also numerically coded. For example:\n",
    "         *Here: 1 = Afghanistan, 2= Albania and 170=Zimbabwe.\n",
    "    *4) HUMAN_DEVELOPMENT_INDEX: Average Human development index of particular state  \n",
    "    *5) POPULATION_DENSITY: Population Density of particular country. \n",
    "    *6) TEMPERATURES: Tempearures in C of particular country at particular date.  "
   ]
  },
  {
   "cell_type": "code",
   "execution_count": 13,
   "metadata": {},
   "outputs": [
    {
     "data": {
      "text/html": [
       "<div>\n",
       "<style scoped>\n",
       "    .dataframe tbody tr th:only-of-type {\n",
       "        vertical-align: middle;\n",
       "    }\n",
       "\n",
       "    .dataframe tbody tr th {\n",
       "        vertical-align: top;\n",
       "    }\n",
       "\n",
       "    .dataframe thead th {\n",
       "        text-align: right;\n",
       "    }\n",
       "</style>\n",
       "<table border=\"1\" class=\"dataframe\">\n",
       "  <thead>\n",
       "    <tr style=\"text-align: right;\">\n",
       "      <th></th>\n",
       "      <th>Xo</th>\n",
       "      <th>DATE_CODE</th>\n",
       "      <th>COUNTRY_CODE</th>\n",
       "      <th>POPULATION DENSITY</th>\n",
       "      <th>HUMAN_DEVELOPMENT_INDEX</th>\n",
       "      <th>TEMPERATURES</th>\n",
       "    </tr>\n",
       "  </thead>\n",
       "  <tbody>\n",
       "    <tr>\n",
       "      <th>0</th>\n",
       "      <td>1</td>\n",
       "      <td>0</td>\n",
       "      <td>0</td>\n",
       "      <td>54.42</td>\n",
       "      <td>0.498</td>\n",
       "      <td>7.0</td>\n",
       "    </tr>\n",
       "    <tr>\n",
       "      <th>1</th>\n",
       "      <td>1</td>\n",
       "      <td>1</td>\n",
       "      <td>0</td>\n",
       "      <td>54.42</td>\n",
       "      <td>0.498</td>\n",
       "      <td>7.0</td>\n",
       "    </tr>\n",
       "    <tr>\n",
       "      <th>2</th>\n",
       "      <td>1</td>\n",
       "      <td>2</td>\n",
       "      <td>0</td>\n",
       "      <td>54.42</td>\n",
       "      <td>0.498</td>\n",
       "      <td>13.0</td>\n",
       "    </tr>\n",
       "    <tr>\n",
       "      <th>3</th>\n",
       "      <td>1</td>\n",
       "      <td>3</td>\n",
       "      <td>0</td>\n",
       "      <td>54.42</td>\n",
       "      <td>0.498</td>\n",
       "      <td>2.0</td>\n",
       "    </tr>\n",
       "    <tr>\n",
       "      <th>4</th>\n",
       "      <td>1</td>\n",
       "      <td>4</td>\n",
       "      <td>0</td>\n",
       "      <td>54.42</td>\n",
       "      <td>0.498</td>\n",
       "      <td>6.0</td>\n",
       "    </tr>\n",
       "  </tbody>\n",
       "</table>\n",
       "</div>"
      ],
      "text/plain": [
       "   Xo  DATE_CODE  COUNTRY_CODE  POPULATION DENSITY  HUMAN_DEVELOPMENT_INDEX  \\\n",
       "0   1          0             0               54.42                    0.498   \n",
       "1   1          1             0               54.42                    0.498   \n",
       "2   1          2             0               54.42                    0.498   \n",
       "3   1          3             0               54.42                    0.498   \n",
       "4   1          4             0               54.42                    0.498   \n",
       "\n",
       "   TEMPERATURES  \n",
       "0           7.0  \n",
       "1           7.0  \n",
       "2          13.0  \n",
       "3           2.0  \n",
       "4           6.0  "
      ]
     },
     "execution_count": 13,
     "metadata": {},
     "output_type": "execute_result"
    }
   ],
   "source": [
    "x.head()\n"
   ]
  },
  {
   "cell_type": "markdown",
   "metadata": {},
   "source": [
    "`y` is our prediction label."
   ]
  },
  {
   "cell_type": "code",
   "execution_count": 14,
   "metadata": {},
   "outputs": [],
   "source": [
    "y=f_df['CASES']"
   ]
  },
  {
   "cell_type": "code",
   "execution_count": 15,
   "metadata": {},
   "outputs": [
    {
     "data": {
      "text/plain": [
       "0    0\n",
       "1    0\n",
       "2    0\n",
       "3    0\n",
       "4    0\n",
       "Name: CASES, dtype: int64"
      ]
     },
     "execution_count": 15,
     "metadata": {},
     "output_type": "execute_result"
    }
   ],
   "source": [
    "y.head()"
   ]
  },
  {
   "cell_type": "markdown",
   "metadata": {},
   "source": [
    "### Step 6: Normalization/ Scaling of features"
   ]
  },
  {
   "cell_type": "code",
   "execution_count": 16,
   "metadata": {},
   "outputs": [],
   "source": [
    "for j in range(0,len(x.columns)):\n",
    "    x= (x-x.min())/(x.max()-x.min())"
   ]
  },
  {
   "cell_type": "code",
   "execution_count": 17,
   "metadata": {},
   "outputs": [
    {
     "data": {
      "text/html": [
       "<div>\n",
       "<style scoped>\n",
       "    .dataframe tbody tr th:only-of-type {\n",
       "        vertical-align: middle;\n",
       "    }\n",
       "\n",
       "    .dataframe tbody tr th {\n",
       "        vertical-align: top;\n",
       "    }\n",
       "\n",
       "    .dataframe thead th {\n",
       "        text-align: right;\n",
       "    }\n",
       "</style>\n",
       "<table border=\"1\" class=\"dataframe\">\n",
       "  <thead>\n",
       "    <tr style=\"text-align: right;\">\n",
       "      <th></th>\n",
       "      <th>Xo</th>\n",
       "      <th>DATE_CODE</th>\n",
       "      <th>COUNTRY_CODE</th>\n",
       "      <th>POPULATION DENSITY</th>\n",
       "      <th>HUMAN_DEVELOPMENT_INDEX</th>\n",
       "      <th>TEMPERATURES</th>\n",
       "    </tr>\n",
       "  </thead>\n",
       "  <tbody>\n",
       "    <tr>\n",
       "      <th>0</th>\n",
       "      <td>NaN</td>\n",
       "      <td>0.000000</td>\n",
       "      <td>0.0</td>\n",
       "      <td>0.002711</td>\n",
       "      <td>0.240401</td>\n",
       "      <td>0.338235</td>\n",
       "    </tr>\n",
       "    <tr>\n",
       "      <th>1</th>\n",
       "      <td>NaN</td>\n",
       "      <td>0.003135</td>\n",
       "      <td>0.0</td>\n",
       "      <td>0.002711</td>\n",
       "      <td>0.240401</td>\n",
       "      <td>0.338235</td>\n",
       "    </tr>\n",
       "    <tr>\n",
       "      <th>2</th>\n",
       "      <td>NaN</td>\n",
       "      <td>0.006270</td>\n",
       "      <td>0.0</td>\n",
       "      <td>0.002711</td>\n",
       "      <td>0.240401</td>\n",
       "      <td>0.426471</td>\n",
       "    </tr>\n",
       "    <tr>\n",
       "      <th>3</th>\n",
       "      <td>NaN</td>\n",
       "      <td>0.009404</td>\n",
       "      <td>0.0</td>\n",
       "      <td>0.002711</td>\n",
       "      <td>0.240401</td>\n",
       "      <td>0.264706</td>\n",
       "    </tr>\n",
       "    <tr>\n",
       "      <th>4</th>\n",
       "      <td>NaN</td>\n",
       "      <td>0.012539</td>\n",
       "      <td>0.0</td>\n",
       "      <td>0.002711</td>\n",
       "      <td>0.240401</td>\n",
       "      <td>0.323529</td>\n",
       "    </tr>\n",
       "  </tbody>\n",
       "</table>\n",
       "</div>"
      ],
      "text/plain": [
       "   Xo  DATE_CODE  COUNTRY_CODE  POPULATION DENSITY  HUMAN_DEVELOPMENT_INDEX  \\\n",
       "0 NaN   0.000000           0.0            0.002711                 0.240401   \n",
       "1 NaN   0.003135           0.0            0.002711                 0.240401   \n",
       "2 NaN   0.006270           0.0            0.002711                 0.240401   \n",
       "3 NaN   0.009404           0.0            0.002711                 0.240401   \n",
       "4 NaN   0.012539           0.0            0.002711                 0.240401   \n",
       "\n",
       "   TEMPERATURES  \n",
       "0      0.338235  \n",
       "1      0.338235  \n",
       "2      0.426471  \n",
       "3      0.264706  \n",
       "4      0.323529  "
      ]
     },
     "execution_count": 17,
     "metadata": {},
     "output_type": "execute_result"
    }
   ],
   "source": [
    "x.head()"
   ]
  },
  {
   "cell_type": "code",
   "execution_count": 18,
   "metadata": {},
   "outputs": [],
   "source": [
    "x[\"Xo\"]=x[\"Xo\"].fillna(1)"
   ]
  },
  {
   "cell_type": "code",
   "execution_count": 19,
   "metadata": {},
   "outputs": [
    {
     "data": {
      "text/html": [
       "<div>\n",
       "<style scoped>\n",
       "    .dataframe tbody tr th:only-of-type {\n",
       "        vertical-align: middle;\n",
       "    }\n",
       "\n",
       "    .dataframe tbody tr th {\n",
       "        vertical-align: top;\n",
       "    }\n",
       "\n",
       "    .dataframe thead th {\n",
       "        text-align: right;\n",
       "    }\n",
       "</style>\n",
       "<table border=\"1\" class=\"dataframe\">\n",
       "  <thead>\n",
       "    <tr style=\"text-align: right;\">\n",
       "      <th></th>\n",
       "      <th>Xo</th>\n",
       "      <th>DATE_CODE</th>\n",
       "      <th>COUNTRY_CODE</th>\n",
       "      <th>POPULATION DENSITY</th>\n",
       "      <th>HUMAN_DEVELOPMENT_INDEX</th>\n",
       "      <th>TEMPERATURES</th>\n",
       "    </tr>\n",
       "  </thead>\n",
       "  <tbody>\n",
       "    <tr>\n",
       "      <th>0</th>\n",
       "      <td>1.0</td>\n",
       "      <td>0.000000</td>\n",
       "      <td>0.0</td>\n",
       "      <td>0.002711</td>\n",
       "      <td>0.240401</td>\n",
       "      <td>0.338235</td>\n",
       "    </tr>\n",
       "    <tr>\n",
       "      <th>1</th>\n",
       "      <td>1.0</td>\n",
       "      <td>0.003135</td>\n",
       "      <td>0.0</td>\n",
       "      <td>0.002711</td>\n",
       "      <td>0.240401</td>\n",
       "      <td>0.338235</td>\n",
       "    </tr>\n",
       "    <tr>\n",
       "      <th>2</th>\n",
       "      <td>1.0</td>\n",
       "      <td>0.006270</td>\n",
       "      <td>0.0</td>\n",
       "      <td>0.002711</td>\n",
       "      <td>0.240401</td>\n",
       "      <td>0.426471</td>\n",
       "    </tr>\n",
       "    <tr>\n",
       "      <th>3</th>\n",
       "      <td>1.0</td>\n",
       "      <td>0.009404</td>\n",
       "      <td>0.0</td>\n",
       "      <td>0.002711</td>\n",
       "      <td>0.240401</td>\n",
       "      <td>0.264706</td>\n",
       "    </tr>\n",
       "    <tr>\n",
       "      <th>4</th>\n",
       "      <td>1.0</td>\n",
       "      <td>0.012539</td>\n",
       "      <td>0.0</td>\n",
       "      <td>0.002711</td>\n",
       "      <td>0.240401</td>\n",
       "      <td>0.323529</td>\n",
       "    </tr>\n",
       "  </tbody>\n",
       "</table>\n",
       "</div>"
      ],
      "text/plain": [
       "    Xo  DATE_CODE  COUNTRY_CODE  POPULATION DENSITY  HUMAN_DEVELOPMENT_INDEX  \\\n",
       "0  1.0   0.000000           0.0            0.002711                 0.240401   \n",
       "1  1.0   0.003135           0.0            0.002711                 0.240401   \n",
       "2  1.0   0.006270           0.0            0.002711                 0.240401   \n",
       "3  1.0   0.009404           0.0            0.002711                 0.240401   \n",
       "4  1.0   0.012539           0.0            0.002711                 0.240401   \n",
       "\n",
       "   TEMPERATURES  \n",
       "0      0.338235  \n",
       "1      0.338235  \n",
       "2      0.426471  \n",
       "3      0.264706  \n",
       "4      0.323529  "
      ]
     },
     "execution_count": 19,
     "metadata": {},
     "output_type": "execute_result"
    }
   ],
   "source": [
    "x.head()"
   ]
  },
  {
   "cell_type": "markdown",
   "metadata": {},
   "source": [
    "### Step 7: Splitting dataframe into training(60%) validation(20%) and testing data (20%) "
   ]
  },
  {
   "cell_type": "code",
   "execution_count": 20,
   "metadata": {},
   "outputs": [],
   "source": [
    "Train_split=round(0.6*len(f_df))\n",
    "Valid_split=round(Train_split+0.20*len(f_df))\n",
    "\n",
    "x_train,y_train=x[:Train_split],y[:Train_split]\n",
    "x_valid, y_valid=x[Train_split:Valid_split],y[Train_split:Valid_split]\n",
    "x_test, y_test=x[Valid_split:],y[Valid_split:]"
   ]
  },
  {
   "cell_type": "markdown",
   "metadata": {},
   "source": [
    "* x_train, y_train are features and label of training set.\n",
    "* x_valid, y_valid are features and label of validation set.\n",
    "* x_test, y_test are features and label of test set.\n"
   ]
  },
  {
   "cell_type": "code",
   "execution_count": 21,
   "metadata": {},
   "outputs": [
    {
     "data": {
      "text/plain": [
       "(32832, 32832, 10944, 10944, 10944, 10944)"
      ]
     },
     "execution_count": 21,
     "metadata": {},
     "output_type": "execute_result"
    }
   ],
   "source": [
    "len(x_train), len(y_train), len(x_valid), len(y_valid), len(x_test),len(y_test)"
   ]
  },
  {
   "cell_type": "code",
   "execution_count": 22,
   "metadata": {},
   "outputs": [
    {
     "data": {
      "text/plain": [
       "dtype('int64')"
      ]
     },
     "execution_count": 22,
     "metadata": {},
     "output_type": "execute_result"
    }
   ],
   "source": [
    "y_train.dtypes"
   ]
  },
  {
   "cell_type": "code",
   "execution_count": 23,
   "metadata": {},
   "outputs": [
    {
     "data": {
      "text/html": [
       "<div>\n",
       "<style scoped>\n",
       "    .dataframe tbody tr th:only-of-type {\n",
       "        vertical-align: middle;\n",
       "    }\n",
       "\n",
       "    .dataframe tbody tr th {\n",
       "        vertical-align: top;\n",
       "    }\n",
       "\n",
       "    .dataframe thead th {\n",
       "        text-align: right;\n",
       "    }\n",
       "</style>\n",
       "<table border=\"1\" class=\"dataframe\">\n",
       "  <thead>\n",
       "    <tr style=\"text-align: right;\">\n",
       "      <th></th>\n",
       "      <th>Xo</th>\n",
       "      <th>DATE_CODE</th>\n",
       "      <th>COUNTRY_CODE</th>\n",
       "      <th>POPULATION DENSITY</th>\n",
       "      <th>HUMAN_DEVELOPMENT_INDEX</th>\n",
       "      <th>TEMPERATURES</th>\n",
       "    </tr>\n",
       "  </thead>\n",
       "  <tbody>\n",
       "    <tr>\n",
       "      <th>0</th>\n",
       "      <td>1.0</td>\n",
       "      <td>0.000000</td>\n",
       "      <td>0.0</td>\n",
       "      <td>0.002711</td>\n",
       "      <td>0.240401</td>\n",
       "      <td>0.338235</td>\n",
       "    </tr>\n",
       "    <tr>\n",
       "      <th>1</th>\n",
       "      <td>1.0</td>\n",
       "      <td>0.003135</td>\n",
       "      <td>0.0</td>\n",
       "      <td>0.002711</td>\n",
       "      <td>0.240401</td>\n",
       "      <td>0.338235</td>\n",
       "    </tr>\n",
       "    <tr>\n",
       "      <th>2</th>\n",
       "      <td>1.0</td>\n",
       "      <td>0.006270</td>\n",
       "      <td>0.0</td>\n",
       "      <td>0.002711</td>\n",
       "      <td>0.240401</td>\n",
       "      <td>0.426471</td>\n",
       "    </tr>\n",
       "    <tr>\n",
       "      <th>3</th>\n",
       "      <td>1.0</td>\n",
       "      <td>0.009404</td>\n",
       "      <td>0.0</td>\n",
       "      <td>0.002711</td>\n",
       "      <td>0.240401</td>\n",
       "      <td>0.264706</td>\n",
       "    </tr>\n",
       "    <tr>\n",
       "      <th>4</th>\n",
       "      <td>1.0</td>\n",
       "      <td>0.012539</td>\n",
       "      <td>0.0</td>\n",
       "      <td>0.002711</td>\n",
       "      <td>0.240401</td>\n",
       "      <td>0.323529</td>\n",
       "    </tr>\n",
       "  </tbody>\n",
       "</table>\n",
       "</div>"
      ],
      "text/plain": [
       "    Xo  DATE_CODE  COUNTRY_CODE  POPULATION DENSITY  HUMAN_DEVELOPMENT_INDEX  \\\n",
       "0  1.0   0.000000           0.0            0.002711                 0.240401   \n",
       "1  1.0   0.003135           0.0            0.002711                 0.240401   \n",
       "2  1.0   0.006270           0.0            0.002711                 0.240401   \n",
       "3  1.0   0.009404           0.0            0.002711                 0.240401   \n",
       "4  1.0   0.012539           0.0            0.002711                 0.240401   \n",
       "\n",
       "   TEMPERATURES  \n",
       "0      0.338235  \n",
       "1      0.338235  \n",
       "2      0.426471  \n",
       "3      0.264706  \n",
       "4      0.323529  "
      ]
     },
     "execution_count": 23,
     "metadata": {},
     "output_type": "execute_result"
    }
   ],
   "source": [
    "x_train.head()"
   ]
  },
  {
   "cell_type": "markdown",
   "metadata": {},
   "source": [
    "# Training Code"
   ]
  },
  {
   "cell_type": "markdown",
   "metadata": {},
   "source": [
    "### Step 8: Initiating Thetas(Model Parameters) and  defining Hypothesis for Linear Regression"
   ]
  },
  {
   "cell_type": "markdown",
   "metadata": {},
   "source": [
    "As in this model Linear regression is applied, so Hypothesis is Thetas*x. Here:\n",
    "\n",
    "* Thetas= Model Parameters or weights for each feature.\n",
    "* x_train= Features of model \n",
    "In this model, there are total 6 feaures including the bias term Xo. So initiating 6 thetas of initiation value = 0."
   ]
  },
  {
   "cell_type": "code",
   "execution_count": 24,
   "metadata": {},
   "outputs": [],
   "source": [
    "Thetas= np.array([0]*len(x_train.columns))"
   ]
  },
  {
   "cell_type": "code",
   "execution_count": 25,
   "metadata": {},
   "outputs": [
    {
     "data": {
      "text/plain": [
       "array([0, 0, 0, 0, 0, 0])"
      ]
     },
     "execution_count": 25,
     "metadata": {},
     "output_type": "execute_result"
    }
   ],
   "source": [
    "Thetas"
   ]
  },
  {
   "cell_type": "markdown",
   "metadata": {},
   "source": [
    "#### Defining Hypothesis"
   ]
  },
  {
   "cell_type": "code",
   "execution_count": 26,
   "metadata": {},
   "outputs": [],
   "source": [
    "def Hypothesis(Thetas,x_train):\n",
    "    return Thetas*x_train"
   ]
  },
  {
   "cell_type": "markdown",
   "metadata": {},
   "source": [
    "m = length of training set"
   ]
  },
  {
   "cell_type": "code",
   "execution_count": 27,
   "metadata": {},
   "outputs": [],
   "source": [
    "m =len(x_train)"
   ]
  },
  {
   "cell_type": "markdown",
   "metadata": {},
   "source": [
    "### Step 9: Defining Cost function"
   ]
  },
  {
   "cell_type": "markdown",
   "metadata": {},
   "source": [
    "Cost function is basically the differnce between prediction by the model and the predicton label.Here, Regularization is also applied with Cost Function.\n",
    "        \n",
    "        * lambda_ is the regulzarization parameter."
   ]
  },
  {
   "cell_type": "code",
   "execution_count": 28,
   "metadata": {},
   "outputs": [],
   "source": [
    "def Cost_Function(x_train,y_train,Thetas,lambda_):\n",
    "    H=Hypothesis(Thetas,x_train)\n",
    "    H=np.sum(H,axis=1)\n",
    "    Cost=(np.sum(np.power((H-y_train),2))+lambda_*np.sum(np.power(Thetas[1:],2)))/(2*m)\n",
    "    return Cost"
   ]
  },
  {
   "cell_type": "code",
   "execution_count": 29,
   "metadata": {},
   "outputs": [],
   "source": [
    "n=len(x_valid)"
   ]
  },
  {
   "cell_type": "code",
   "execution_count": 30,
   "metadata": {},
   "outputs": [],
   "source": [
    "def Cost_Function_valid(x_valid,y_valid,Thetas,lambda_):\n",
    "    H=Hypothesis(Thetas,x_valid)\n",
    "    H=np.sum(H,axis=1)\n",
    "    Cost=(np.sum(np.power((H-y_valid),2))+lambda_*np.sum(np.power(Thetas[1:],2)))/(2*n)\n",
    "    return Cost"
   ]
  },
  {
   "cell_type": "markdown",
   "metadata": {},
   "source": [
    "### Step 10: Gradient Descent"
   ]
  },
  {
   "cell_type": "markdown",
   "metadata": {},
   "source": [
    "Gradient Descenet is used to find the minimum values of thetas, so that our cost will be minimum. Mimimum cost indicates that the difference between our prediction and actual label is very low. \n",
    "Here, Regularization is also applied with Gradient Descnet to prevent overfitting.\n",
    "\n"
   ]
  },
  {
   "cell_type": "markdown",
   "metadata": {},
   "source": [
    "#### Defining Gradient Descent"
   ]
  },
  {
   "cell_type": "code",
   "execution_count": 31,
   "metadata": {},
   "outputs": [],
   "source": [
    "def Gradient_Descent(x_train, y_train, Thetas,lambda_, alpha, iterations):\n",
    "    J_train = []  #cost of training set in each iterations is saved in this list\n",
    "    J_valid = []  #cost of valid set in each iterations is saved in this list\n",
    "    J_test =  []  #cost of test set in each iterations is saved in this list\n",
    "    temp_var = 0\n",
    "    while temp_var < iterations:        \n",
    "        H = Hypothesis(Thetas, x_train)\n",
    "        H = np.sum(H, axis=1)\n",
    "        for  i in range(0, len(x_train.columns)):\n",
    "            if i==0:\n",
    "                Thetas[0]=Thetas[0]-alpha*(sum((H-y_train)*x_train.iloc[:,0])/(m))\n",
    "            else:\n",
    "                Thetas[i] = Thetas[i]*(1-alpha*(lambda_/m)) - alpha*(sum((H-y_train)*x_train.iloc[:,i])/(m))\n",
    "                \n",
    "                #thethas[i] = thethas[i] - alpha*(sum((H-y_train)*x_train.iloc[:,i])/(m))\n",
    "        j_t = Cost_Function(x_train,y_train, Thetas,lambda_)\n",
    "        J_train.append(j_t)\n",
    "        j_v = Cost_Function_valid(x_valid,y_valid, Thetas,lambda_)\n",
    "        J_valid.append(j_v)\n",
    "        j_te = Cost_Function_valid(x_test,y_test, Thetas,lambda_)\n",
    "        J_test.append(j_te)\n",
    "        temp_var += 1\n",
    "    return J_train,J_valid,J_test, j_t,j_v,j_te, Thetas"
   ]
  },
  {
   "cell_type": "markdown",
   "metadata": {},
   "source": [
    "#### Calculating cost using gradient descent with the following parameters:\n",
    "* alpha is learning rate =0.01 \n",
    "* Iterations=1000\n",
    "* lambda_ is regularization parameter= 10\n",
    "\n",
    "Here, when we put \n",
    "        \n",
    "        * lambda_ = 0, there will no regularizarion\n",
    "        * Iterations = Number of iterations for the loop"
   ]
  },
  {
   "cell_type": "code",
   "execution_count": 32,
   "metadata": {},
   "outputs": [],
   "source": [
    "J_train,J_valid,J_test, j_t,j_v,j_te, Thetas = Gradient_Descent(x_train,y_train,Thetas,10,0.01,1000)"
   ]
  },
  {
   "cell_type": "markdown",
   "metadata": {},
   "source": [
    "#### Thetas (paramters) of our model on training data are as follows:"
   ]
  },
  {
   "cell_type": "code",
   "execution_count": 37,
   "metadata": {},
   "outputs": [
    {
     "data": {
      "text/plain": [
       "array([ 137, 1410,   84,    0,  322,    0])"
      ]
     },
     "execution_count": 37,
     "metadata": {},
     "output_type": "execute_result"
    }
   ],
   "source": [
    "Thetas"
   ]
  },
  {
   "cell_type": "markdown",
   "metadata": {},
   "source": [
    "### Step 11: Calculating Predictions using Hypothesis function and model parameters.\n",
    "\n",
    "`py_train` is our prediction and we are applying our model parameters on training set to check the predictions and accuracy of our model."
   ]
  },
  {
   "cell_type": "code",
   "execution_count": 38,
   "metadata": {},
   "outputs": [],
   "source": [
    "py_train= Hypothesis(Thetas,x_train)\n",
    "py_train= np.sum(py_train,axis=1)"
   ]
  },
  {
   "cell_type": "code",
   "execution_count": 39,
   "metadata": {},
   "outputs": [
    {
     "data": {
      "text/plain": [
       "0         214.409015\n",
       "1         218.829078\n",
       "2         223.249140\n",
       "3         227.669203\n",
       "4         232.089266\n",
       "            ...     \n",
       "32827    1103.187116\n",
       "32828    1107.607179\n",
       "32829    1112.027242\n",
       "32830    1116.447305\n",
       "32831    1120.867367\n",
       "Length: 32832, dtype: float64"
      ]
     },
     "execution_count": 39,
     "metadata": {},
     "output_type": "execute_result"
    }
   ],
   "source": [
    "py_train"
   ]
  },
  {
   "cell_type": "markdown",
   "metadata": {},
   "source": [
    "### Step 11.1: Result Visualization\n",
    "\n",
    "#### A)  Graph of Cost vs Iterations to check the working of our model. \n",
    "#### B)  Scattter plot for our predictions in training set  and y_train."
   ]
  },
  {
   "cell_type": "code",
   "execution_count": 40,
   "metadata": {},
   "outputs": [
    {
     "data": {
      "image/png": "[encoded data removed]",
      "text/plain": [
       "<Figure size 1224x360 with 2 Axes>"
      ]
     },
     "metadata": {
      "needs_background": "light"
     },
     "output_type": "display_data"
    }
   ],
   "source": [
    "fig,(ax1,ax2)=plt.subplots(figsize=(17,5),\n",
    "                          nrows=1,\n",
    "                          ncols=2)\n",
    "ax1.scatter(x=list(range(0,1000)),y=J_train,color='#133000',alpha=0.65)\n",
    "ax1.set(xlabel='No of iterations',\n",
    "      ylabel='Cost after each Iteration',\n",
    "      title='Cost Vs Iterations (Multivariable Linear Regression )')\n",
    "ax2.scatter(x=list(range(0,len(x_train))),y=y_train,color='red',label='Original Label')\n",
    "ax2.scatter(x=list(range(0,len(x_train))),y=py_train,color='green',label='Prediction Label')\n",
    "ax2.set(xlabel='No of samples in our Train set',\n",
    "       ylabel='Actual Labels in training set',\n",
    "       title='Comparison of Prediction label and original label')\n",
    "ax2.legend();"
   ]
  },
  {
   "cell_type": "markdown",
   "metadata": {},
   "source": [
    "### Step 11.2: Calculating Mean Absolute Error on train data set"
   ]
  },
  {
   "cell_type": "code",
   "execution_count": 41,
   "metadata": {},
   "outputs": [
    {
     "data": {
      "text/plain": [
       "1599.0524808782307"
      ]
     },
     "execution_count": 41,
     "metadata": {},
     "output_type": "execute_result"
    }
   ],
   "source": [
    "MAE_train=np.sum(np.absolute(y_train-py_train))/len(x_train)\n",
    "MAE_train"
   ]
  },
  {
   "cell_type": "markdown",
   "metadata": {},
   "source": [
    "Mean absolute Error is `1599.9` for training set. It means that model is predicting `1599` values wrong from actual cases"
   ]
  },
  {
   "cell_type": "markdown",
   "metadata": {},
   "source": [
    "### Step 12: Applying model paramters on validation data set"
   ]
  },
  {
   "cell_type": "markdown",
   "metadata": {},
   "source": [
    "`py_validation` is our prediction on validation set and we are applying our model parameters on validation set to check the predictions and accuracy of our model."
   ]
  },
  {
   "cell_type": "code",
   "execution_count": 42,
   "metadata": {},
   "outputs": [],
   "source": [
    "py_validation= Hypothesis(Thetas,x_valid)\n",
    "py_validation= np.sum(py_validation,axis=1)"
   ]
  },
  {
   "cell_type": "code",
   "execution_count": 43,
   "metadata": {},
   "outputs": [
    {
     "data": {
      "text/plain": [
       "32832    1125.287430\n",
       "32833    1129.707493\n",
       "32834    1134.127555\n",
       "32835    1138.547618\n",
       "32836    1142.967681\n",
       "            ...     \n",
       "43771    1551.775970\n",
       "43772    1556.196033\n",
       "43773    1560.616096\n",
       "43774    1565.036158\n",
       "43775    1569.456221\n",
       "Length: 10944, dtype: float64"
      ]
     },
     "execution_count": 43,
     "metadata": {},
     "output_type": "execute_result"
    }
   ],
   "source": [
    "py_validation"
   ]
  },
  {
   "cell_type": "markdown",
   "metadata": {},
   "source": [
    "### Step 12.1 Result Visualization for validation data"
   ]
  },
  {
   "cell_type": "markdown",
   "metadata": {},
   "source": [
    "#### Creating  scattter plots for our predictions on validation data and y_valid label."
   ]
  },
  {
   "cell_type": "code",
   "execution_count": 44,
   "metadata": {},
   "outputs": [
    {
     "data": {
      "image/png": "[encoded data removed]",
      "text/plain": [
       "<Figure size 1224x360 with 2 Axes>"
      ]
     },
     "metadata": {
      "needs_background": "light"
     },
     "output_type": "display_data"
    }
   ],
   "source": [
    "fig,(ax1,ax2)=plt.subplots(figsize=(17,5),\n",
    "                          nrows=1,\n",
    "                          ncols=2)\n",
    "ax1.scatter(x=list(range(0,1000)),y=J_valid,color=\"green\")\n",
    "ax1.set(xlabel=\"No of Iterations\", ylabel = \"error on validation set J_v\", title =\"Cost vs Iteration on Validation set\")\n",
    "ax2.scatter(x=list(range(0,len(x_valid))),y=y_valid,color='maroon',label='Original Label')\n",
    "ax2.scatter(x=list(range(0,len(x_valid))),y=py_validation,color='#123450',label='Prediction Label')\n",
    "ax2.set(xlabel='No of samples in our validation set',\n",
    "       ylabel='Prediction Label in validation set ',\n",
    "       title='Comparison of Prediction label and original label')\n",
    "ax2.legend();"
   ]
  },
  {
   "cell_type": "markdown",
   "metadata": {},
   "source": [
    "### Step 12.2 Mean Absolute Error for validation set"
   ]
  },
  {
   "cell_type": "code",
   "execution_count": 45,
   "metadata": {},
   "outputs": [
    {
     "data": {
      "text/plain": [
       "1285.6464488275617"
      ]
     },
     "execution_count": 45,
     "metadata": {},
     "output_type": "execute_result"
    }
   ],
   "source": [
    "MAE_validation=np.sum(np.absolute(y_valid-py_validation))/len(x_valid)\n",
    "MAE_validation"
   ]
  },
  {
   "cell_type": "markdown",
   "metadata": {},
   "source": [
    "Mean absolute Error is `1285.7` for validation set. \n",
    "It means that model is predicting `1285` values wrong from actual cases in validation set."
   ]
  },
  {
   "cell_type": "markdown",
   "metadata": {},
   "source": [
    "### Step 13: Applying model paramters on test data set to get predictions"
   ]
  },
  {
   "cell_type": "markdown",
   "metadata": {},
   "source": [
    "`py_test` is our prediction on validation set and we are applying our model parameters on test set to check the predictions and accuracy of our model."
   ]
  },
  {
   "cell_type": "code",
   "execution_count": 46,
   "metadata": {},
   "outputs": [],
   "source": [
    "py_test= Hypothesis(Thetas,x_test)\n",
    "py_test= np.sum(py_test,axis=1)"
   ]
  },
  {
   "cell_type": "code",
   "execution_count": 47,
   "metadata": {},
   "outputs": [
    {
     "data": {
      "text/plain": [
       "43776    1573.876284\n",
       "43777    1578.296347\n",
       "43778    1582.716409\n",
       "43779    1587.136472\n",
       "43780    1591.556535\n",
       "dtype: float64"
      ]
     },
     "execution_count": 47,
     "metadata": {},
     "output_type": "execute_result"
    }
   ],
   "source": [
    "py_test.head()"
   ]
  },
  {
   "cell_type": "markdown",
   "metadata": {},
   "source": [
    "### Step 13. 1 Result Visualization for test data"
   ]
  },
  {
   "cell_type": "markdown",
   "metadata": {},
   "source": [
    "#### Creating  scattter plots for our predictions on test and y_test label."
   ]
  },
  {
   "cell_type": "code",
   "execution_count": 48,
   "metadata": {},
   "outputs": [
    {
     "data": {
      "image/png": "[encoded data removed]",
      "text/plain": [
       "<Figure size 1224x360 with 2 Axes>"
      ]
     },
     "metadata": {
      "needs_background": "light"
     },
     "output_type": "display_data"
    }
   ],
   "source": [
    "fig,(ax1,ax2)=plt.subplots(figsize=(17,5),\n",
    "                          nrows=1,\n",
    "                          ncols=2)\n",
    "ax1.scatter(x=list(range(0,1000)),y=J_test,color=\"red\")\n",
    "ax1.set(xlabel=\"No of Iterations\", ylabel = \"error on validation set J_v\", title =\"Cost vs Iteration on test set\")\n",
    "ax2.scatter(x=list(range(0,len(x_valid))),y=y_valid,color='orange',label='Original Label')\n",
    "ax2.scatter(x=list(range(0,len(x_valid))),y=py_validation,color='blue',label='Prediction Label')\n",
    "ax2.set(xlabel='No of samples in our validation set',\n",
    "       ylabel='Prediction Label in validation set ',\n",
    "       title='Comparison of Prediction label and original label')\n",
    "ax2.legend();"
   ]
  },
  {
   "cell_type": "markdown",
   "metadata": {},
   "source": [
    "###  Step 13. 2 Mean Absolute Error on test set"
   ]
  },
  {
   "cell_type": "code",
   "execution_count": 49,
   "metadata": {},
   "outputs": [
    {
     "data": {
      "text/plain": [
       "2638.1314938164996"
      ]
     },
     "execution_count": 49,
     "metadata": {},
     "output_type": "execute_result"
    }
   ],
   "source": [
    "MAE_test=np.sum(np.absolute(y_test-py_test))/len(x_test)\n",
    "MAE_test"
   ]
  },
  {
   "cell_type": "markdown",
   "metadata": {},
   "source": [
    "Mean absolute Error is `2638.0` for test set. It means that model is predicting `2638` values wrong from actual cases in test set."
   ]
  },
  {
   "cell_type": "markdown",
   "metadata": {},
   "source": [
    "### PLOT FOR ALL THREE ERRORS"
   ]
  },
  {
   "cell_type": "code",
   "execution_count": 50,
   "metadata": {},
   "outputs": [
    {
     "data": {
      "image/png": "[encoded data removed]",
      "text/plain": [
       "<Figure size 720x360 with 1 Axes>"
      ]
     },
     "metadata": {
      "needs_background": "light"
     },
     "output_type": "display_data"
    }
   ],
   "source": [
    "fig,(ax1)=plt.subplots(figsize=(10,5),\n",
    "                          nrows=1,\n",
    "                          ncols=1)\n",
    "ax1.scatter(x=list(range(0,1000)),y=J_train,color='green',label='Training error(J_train)')\n",
    "ax1.scatter(x=list(range(0,1000)),y=J_valid,color='blue',label='Validation error(J_valid)')\n",
    "ax1.scatter(x=list(range(0,1000)),y=J_test,color=\"red\",label='Test error(J_test)')\n",
    "ax1.set(xlabel=\"No of Iterations\", ylabel = \"Error on train,test and validation set\", title =\"Cost vs Iteration on three sets\")\n",
    "ax1.legend();"
   ]
  }
 ],
 "metadata": {
  "kernelspec": {
   "display_name": "Python 3",
   "language": "python",
   "name": "python3"
  },
  "language_info": {
   "codemirror_mode": {
    "name": "ipython",
    "version": 3
   },
   "file_extension": ".py",
   "mimetype": "text/x-python",
   "name": "python",
   "nbconvert_exporter": "python",
   "pygments_lexer": "ipython3",
   "version": "3.8.3"
  }
 },
 "nbformat": 4,
 "nbformat_minor": 2
}
